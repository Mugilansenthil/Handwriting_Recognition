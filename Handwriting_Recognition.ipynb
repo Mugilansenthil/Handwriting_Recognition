{
  "nbformat": 4,
  "nbformat_minor": 0,
  "metadata": {
    "colab": {
      "provenance": [],
      "authorship_tag": "ABX9TyNgZS+dn9hEAti+IkXxDaG5",
      "include_colab_link": true
    },
    "kernelspec": {
      "name": "python3",
      "display_name": "Python 3"
    },
    "language_info": {
      "name": "python"
    }
  },
  "cells": [
    {
      "cell_type": "markdown",
      "metadata": {
        "id": "view-in-github",
        "colab_type": "text"
      },
      "source": [
        "<a href=\"https://colab.research.google.com/github/Mugilansenthil/Handwriting_Recognition/blob/main/Handwriting_Recognition.ipynb\" target=\"_parent\"><img src=\"https://colab.research.google.com/assets/colab-badge.svg\" alt=\"Open In Colab\"/></a>"
      ]
    },
    {
      "cell_type": "code",
      "source": [
        "import numpy as np\n",
        "import tensorflow as tf\n",
        "from tensorflow.keras.datasets import mnist\n",
        "from tensorflow.keras.models import Model\n",
        "from tensorflow.keras.layers import Input, Dense"
      ],
      "metadata": {
        "id": "VEbcKFXMWCgB"
      },
      "execution_count": 1,
      "outputs": []
    },
    {
      "cell_type": "code",
      "source": [
        "(x_train, _), (x_test, _) = mnist.load_data()\n"
      ],
      "metadata": {
        "colab": {
          "base_uri": "https://localhost:8080/"
        },
        "id": "O_l86OImWCjr",
        "outputId": "874e24b6-1e55-4eda-8449-af1c2c45bc32"
      },
      "execution_count": 2,
      "outputs": [
        {
          "output_type": "stream",
          "name": "stdout",
          "text": [
            "Downloading data from https://storage.googleapis.com/tensorflow/tf-keras-datasets/mnist.npz\n",
            "11490434/11490434 [==============================] - 0s 0us/step\n"
          ]
        }
      ]
    },
    {
      "cell_type": "code",
      "source": [
        "x_train = x_train.astype('float32') / 255.\n",
        "x_test = x_test.astype('float32') / 255."
      ],
      "metadata": {
        "id": "RPeQc1giWCmo"
      },
      "execution_count": 3,
      "outputs": []
    },
    {
      "cell_type": "code",
      "source": [
        "x_train = x_train.reshape((len(x_train), np.prod(x_train.shape[1:])))\n",
        "x_test = x_test.reshape((len(x_test), np.prod(x_test.shape[1:])))"
      ],
      "metadata": {
        "id": "Cbum2QegWCpe"
      },
      "execution_count": 4,
      "outputs": []
    },
    {
      "cell_type": "code",
      "source": [
        "input_img = Input(shape=(784,))\n",
        "encoded = Dense(128, activation='relu')(input_img)\n",
        "encoded = Dense(64, activation='relu')(encoded)\n",
        "encoded = Dense(32, activation='relu')(encoded)\n",
        "\n",
        "decoded = Dense(64, activation='relu')(encoded)\n",
        "decoded = Dense(128, activation='relu')(decoded)\n",
        "decoded = Dense(784, activation='sigmoid')(decoded)"
      ],
      "metadata": {
        "id": "dnonJgonW-fw"
      },
      "execution_count": 5,
      "outputs": []
    },
    {
      "cell_type": "code",
      "source": [
        "autoencoder = Model(input_img, decoded)\n",
        "autoencoder.compile(optimizer='adam', loss='binary_crossentropy')"
      ],
      "metadata": {
        "id": "RXaNBFwzW-jO"
      },
      "execution_count": 7,
      "outputs": []
    },
    {
      "cell_type": "code",
      "source": [
        "autoencoder.fit(x_train, x_train,\n",
        "                epochs=100,\n",
        "                batch_size=256,\n",
        "                shuffle=True,\n",
        "                validation_data=(x_test, x_test))"
      ],
      "metadata": {
        "colab": {
          "base_uri": "https://localhost:8080/"
        },
        "id": "YRfc0ra1W-m3",
        "outputId": "1bfdde8b-bb47-4bcb-82c4-241c818ed79d"
      },
      "execution_count": 9,
      "outputs": [
        {
          "output_type": "stream",
          "name": "stdout",
          "text": [
            "Epoch 1/100\n",
            "235/235 [==============================] - 6s 25ms/step - loss: 0.1495 - val_loss: 0.1351\n",
            "Epoch 2/100\n",
            "235/235 [==============================] - 4s 18ms/step - loss: 0.1306 - val_loss: 0.1243\n",
            "Epoch 3/100\n",
            "235/235 [==============================] - 5s 19ms/step - loss: 0.1219 - val_loss: 0.1173\n",
            "Epoch 4/100\n",
            "235/235 [==============================] - 4s 17ms/step - loss: 0.1161 - val_loss: 0.1127\n",
            "Epoch 5/100\n",
            "235/235 [==============================] - 5s 19ms/step - loss: 0.1124 - val_loss: 0.1097\n",
            "Epoch 6/100\n",
            "235/235 [==============================] - 5s 19ms/step - loss: 0.1092 - val_loss: 0.1065\n",
            "Epoch 7/100\n",
            "235/235 [==============================] - 4s 17ms/step - loss: 0.1068 - val_loss: 0.1048\n",
            "Epoch 8/100\n",
            "235/235 [==============================] - 5s 21ms/step - loss: 0.1046 - val_loss: 0.1024\n",
            "Epoch 9/100\n",
            "235/235 [==============================] - 4s 18ms/step - loss: 0.1022 - val_loss: 0.1000\n",
            "Epoch 10/100\n",
            "235/235 [==============================] - 4s 17ms/step - loss: 0.1002 - val_loss: 0.0983\n",
            "Epoch 11/100\n",
            "235/235 [==============================] - 5s 22ms/step - loss: 0.0987 - val_loss: 0.0976\n",
            "Epoch 12/100\n",
            "235/235 [==============================] - 4s 17ms/step - loss: 0.0973 - val_loss: 0.0954\n",
            "Epoch 13/100\n",
            "235/235 [==============================] - 4s 17ms/step - loss: 0.0960 - val_loss: 0.0947\n",
            "Epoch 14/100\n",
            "235/235 [==============================] - 5s 22ms/step - loss: 0.0949 - val_loss: 0.0936\n",
            "Epoch 15/100\n",
            "235/235 [==============================] - 4s 17ms/step - loss: 0.0940 - val_loss: 0.0936\n",
            "Epoch 16/100\n",
            "235/235 [==============================] - 4s 17ms/step - loss: 0.0933 - val_loss: 0.0920\n",
            "Epoch 17/100\n",
            "235/235 [==============================] - 5s 22ms/step - loss: 0.0924 - val_loss: 0.0912\n",
            "Epoch 18/100\n",
            "235/235 [==============================] - 4s 17ms/step - loss: 0.0918 - val_loss: 0.0913\n",
            "Epoch 19/100\n",
            "235/235 [==============================] - 4s 17ms/step - loss: 0.0913 - val_loss: 0.0904\n",
            "Epoch 20/100\n",
            "235/235 [==============================] - 5s 23ms/step - loss: 0.0908 - val_loss: 0.0897\n",
            "Epoch 21/100\n",
            "235/235 [==============================] - 4s 19ms/step - loss: 0.0903 - val_loss: 0.0895\n",
            "Epoch 22/100\n",
            "235/235 [==============================] - 5s 20ms/step - loss: 0.0899 - val_loss: 0.0894\n",
            "Epoch 23/100\n",
            "235/235 [==============================] - 5s 21ms/step - loss: 0.0896 - val_loss: 0.0888\n",
            "Epoch 24/100\n",
            "235/235 [==============================] - 4s 18ms/step - loss: 0.0893 - val_loss: 0.0884\n",
            "Epoch 25/100\n",
            "235/235 [==============================] - 5s 22ms/step - loss: 0.0889 - val_loss: 0.0880\n",
            "Epoch 26/100\n",
            "235/235 [==============================] - 4s 19ms/step - loss: 0.0886 - val_loss: 0.0880\n",
            "Epoch 27/100\n",
            "235/235 [==============================] - 5s 21ms/step - loss: 0.0883 - val_loss: 0.0877\n",
            "Epoch 28/100\n",
            "235/235 [==============================] - 5s 23ms/step - loss: 0.0880 - val_loss: 0.0871\n",
            "Epoch 29/100\n",
            "235/235 [==============================] - 4s 18ms/step - loss: 0.0877 - val_loss: 0.0870\n",
            "Epoch 30/100\n",
            "235/235 [==============================] - 4s 19ms/step - loss: 0.0874 - val_loss: 0.0867\n",
            "Epoch 31/100\n",
            "235/235 [==============================] - 5s 22ms/step - loss: 0.0872 - val_loss: 0.0868\n",
            "Epoch 32/100\n",
            "235/235 [==============================] - 4s 18ms/step - loss: 0.0869 - val_loss: 0.0865\n",
            "Epoch 33/100\n",
            "235/235 [==============================] - 6s 27ms/step - loss: 0.0867 - val_loss: 0.0860\n",
            "Epoch 34/100\n",
            "235/235 [==============================] - 4s 18ms/step - loss: 0.0865 - val_loss: 0.0861\n",
            "Epoch 35/100\n",
            "235/235 [==============================] - 4s 18ms/step - loss: 0.0863 - val_loss: 0.0859\n",
            "Epoch 36/100\n",
            "235/235 [==============================] - 5s 22ms/step - loss: 0.0861 - val_loss: 0.0856\n",
            "Epoch 37/100\n",
            "235/235 [==============================] - 4s 17ms/step - loss: 0.0860 - val_loss: 0.0856\n",
            "Epoch 38/100\n",
            "235/235 [==============================] - 4s 18ms/step - loss: 0.0859 - val_loss: 0.0853\n",
            "Epoch 39/100\n",
            "235/235 [==============================] - 5s 22ms/step - loss: 0.0857 - val_loss: 0.0849\n",
            "Epoch 40/100\n",
            "235/235 [==============================] - 4s 18ms/step - loss: 0.0856 - val_loss: 0.0849\n",
            "Epoch 41/100\n",
            "235/235 [==============================] - 4s 17ms/step - loss: 0.0854 - val_loss: 0.0852\n",
            "Epoch 42/100\n",
            "235/235 [==============================] - 5s 22ms/step - loss: 0.0853 - val_loss: 0.0847\n",
            "Epoch 43/100\n",
            "235/235 [==============================] - 4s 18ms/step - loss: 0.0852 - val_loss: 0.0847\n",
            "Epoch 44/100\n",
            "235/235 [==============================] - 4s 17ms/step - loss: 0.0850 - val_loss: 0.0847\n",
            "Epoch 45/100\n",
            "235/235 [==============================] - 5s 21ms/step - loss: 0.0849 - val_loss: 0.0847\n",
            "Epoch 46/100\n",
            "235/235 [==============================] - 4s 17ms/step - loss: 0.0848 - val_loss: 0.0846\n",
            "Epoch 47/100\n",
            "235/235 [==============================] - 5s 19ms/step - loss: 0.0847 - val_loss: 0.0843\n",
            "Epoch 48/100\n",
            "235/235 [==============================] - 5s 20ms/step - loss: 0.0846 - val_loss: 0.0842\n",
            "Epoch 49/100\n",
            "235/235 [==============================] - 4s 18ms/step - loss: 0.0845 - val_loss: 0.0840\n",
            "Epoch 50/100\n",
            "235/235 [==============================] - 5s 21ms/step - loss: 0.0844 - val_loss: 0.0839\n",
            "Epoch 51/100\n",
            "235/235 [==============================] - 4s 19ms/step - loss: 0.0843 - val_loss: 0.0839\n",
            "Epoch 52/100\n",
            "235/235 [==============================] - 4s 18ms/step - loss: 0.0843 - val_loss: 0.0839\n",
            "Epoch 53/100\n",
            "235/235 [==============================] - 5s 23ms/step - loss: 0.0841 - val_loss: 0.0839\n",
            "Epoch 54/100\n",
            "235/235 [==============================] - 4s 18ms/step - loss: 0.0841 - val_loss: 0.0835\n",
            "Epoch 55/100\n",
            "235/235 [==============================] - 4s 18ms/step - loss: 0.0840 - val_loss: 0.0837\n",
            "Epoch 56/100\n",
            "235/235 [==============================] - 5s 23ms/step - loss: 0.0839 - val_loss: 0.0837\n",
            "Epoch 57/100\n",
            "235/235 [==============================] - 4s 17ms/step - loss: 0.0839 - val_loss: 0.0835\n",
            "Epoch 58/100\n",
            "235/235 [==============================] - 4s 18ms/step - loss: 0.0838 - val_loss: 0.0835\n",
            "Epoch 59/100\n",
            "235/235 [==============================] - 5s 23ms/step - loss: 0.0837 - val_loss: 0.0832\n",
            "Epoch 60/100\n",
            "235/235 [==============================] - 4s 18ms/step - loss: 0.0837 - val_loss: 0.0832\n",
            "Epoch 61/100\n",
            "235/235 [==============================] - 5s 20ms/step - loss: 0.0836 - val_loss: 0.0832\n",
            "Epoch 62/100\n",
            "235/235 [==============================] - 5s 21ms/step - loss: 0.0835 - val_loss: 0.0834\n",
            "Epoch 63/100\n",
            "235/235 [==============================] - 4s 18ms/step - loss: 0.0835 - val_loss: 0.0833\n",
            "Epoch 64/100\n",
            "235/235 [==============================] - 5s 22ms/step - loss: 0.0834 - val_loss: 0.0831\n",
            "Epoch 65/100\n",
            "235/235 [==============================] - 4s 17ms/step - loss: 0.0834 - val_loss: 0.0835\n",
            "Epoch 66/100\n",
            "235/235 [==============================] - 4s 18ms/step - loss: 0.0833 - val_loss: 0.0830\n",
            "Epoch 67/100\n",
            "235/235 [==============================] - 5s 22ms/step - loss: 0.0832 - val_loss: 0.0829\n",
            "Epoch 68/100\n",
            "235/235 [==============================] - 4s 17ms/step - loss: 0.0832 - val_loss: 0.0828\n",
            "Epoch 69/100\n",
            "235/235 [==============================] - 4s 18ms/step - loss: 0.0831 - val_loss: 0.0827\n",
            "Epoch 70/100\n",
            "235/235 [==============================] - 5s 23ms/step - loss: 0.0831 - val_loss: 0.0828\n",
            "Epoch 71/100\n",
            "235/235 [==============================] - 4s 18ms/step - loss: 0.0830 - val_loss: 0.0828\n",
            "Epoch 72/100\n",
            "235/235 [==============================] - 4s 18ms/step - loss: 0.0830 - val_loss: 0.0829\n",
            "Epoch 73/100\n",
            "235/235 [==============================] - 5s 22ms/step - loss: 0.0829 - val_loss: 0.0829\n",
            "Epoch 74/100\n",
            "235/235 [==============================] - 4s 18ms/step - loss: 0.0829 - val_loss: 0.0826\n",
            "Epoch 75/100\n",
            "235/235 [==============================] - 5s 21ms/step - loss: 0.0829 - val_loss: 0.0826\n",
            "Epoch 76/100\n",
            "235/235 [==============================] - 5s 21ms/step - loss: 0.0828 - val_loss: 0.0826\n",
            "Epoch 77/100\n",
            "235/235 [==============================] - 4s 18ms/step - loss: 0.0828 - val_loss: 0.0826\n",
            "Epoch 78/100\n",
            "235/235 [==============================] - 5s 23ms/step - loss: 0.0827 - val_loss: 0.0826\n",
            "Epoch 79/100\n",
            "235/235 [==============================] - 5s 23ms/step - loss: 0.0827 - val_loss: 0.0825\n",
            "Epoch 80/100\n",
            "235/235 [==============================] - 4s 18ms/step - loss: 0.0826 - val_loss: 0.0825\n",
            "Epoch 81/100\n",
            "235/235 [==============================] - 5s 23ms/step - loss: 0.0826 - val_loss: 0.0823\n",
            "Epoch 82/100\n",
            "235/235 [==============================] - 4s 18ms/step - loss: 0.0825 - val_loss: 0.0826\n",
            "Epoch 83/100\n",
            "235/235 [==============================] - 4s 18ms/step - loss: 0.0825 - val_loss: 0.0824\n",
            "Epoch 84/100\n",
            "235/235 [==============================] - 5s 22ms/step - loss: 0.0825 - val_loss: 0.0823\n",
            "Epoch 85/100\n",
            "235/235 [==============================] - 4s 18ms/step - loss: 0.0824 - val_loss: 0.0822\n",
            "Epoch 86/100\n",
            "235/235 [==============================] - 5s 22ms/step - loss: 0.0824 - val_loss: 0.0821\n",
            "Epoch 87/100\n",
            "235/235 [==============================] - 4s 19ms/step - loss: 0.0824 - val_loss: 0.0820\n",
            "Epoch 88/100\n",
            "235/235 [==============================] - 4s 18ms/step - loss: 0.0823 - val_loss: 0.0823\n",
            "Epoch 89/100\n",
            "235/235 [==============================] - 5s 22ms/step - loss: 0.0823 - val_loss: 0.0821\n",
            "Epoch 90/100\n",
            "235/235 [==============================] - 4s 18ms/step - loss: 0.0823 - val_loss: 0.0821\n",
            "Epoch 91/100\n",
            "235/235 [==============================] - 4s 18ms/step - loss: 0.0823 - val_loss: 0.0824\n",
            "Epoch 92/100\n",
            "235/235 [==============================] - 5s 22ms/step - loss: 0.0822 - val_loss: 0.0820\n",
            "Epoch 93/100\n",
            "235/235 [==============================] - 4s 18ms/step - loss: 0.0822 - val_loss: 0.0818\n",
            "Epoch 94/100\n",
            "235/235 [==============================] - 4s 17ms/step - loss: 0.0821 - val_loss: 0.0821\n",
            "Epoch 95/100\n",
            "235/235 [==============================] - 5s 21ms/step - loss: 0.0821 - val_loss: 0.0821\n",
            "Epoch 96/100\n",
            "235/235 [==============================] - 4s 18ms/step - loss: 0.0821 - val_loss: 0.0818\n",
            "Epoch 97/100\n",
            "235/235 [==============================] - 4s 17ms/step - loss: 0.0820 - val_loss: 0.0818\n",
            "Epoch 98/100\n",
            "235/235 [==============================] - 5s 22ms/step - loss: 0.0820 - val_loss: 0.0821\n",
            "Epoch 99/100\n",
            "235/235 [==============================] - 4s 18ms/step - loss: 0.0820 - val_loss: 0.0821\n",
            "Epoch 100/100\n",
            "235/235 [==============================] - 4s 19ms/step - loss: 0.0820 - val_loss: 0.0819\n"
          ]
        },
        {
          "output_type": "execute_result",
          "data": {
            "text/plain": [
              "<keras.src.callbacks.History at 0x7c2ead68cb20>"
            ]
          },
          "metadata": {},
          "execution_count": 9
        }
      ]
    },
    {
      "cell_type": "code",
      "source": [
        "encoder = Model(input_img, encoded)"
      ],
      "metadata": {
        "id": "cVDfuiiFWCsl"
      },
      "execution_count": 10,
      "outputs": []
    },
    {
      "cell_type": "code",
      "source": [
        "encoded_input = Input(shape=(32,))\n",
        "decoder_layer1 = autoencoder.layers[-3]\n",
        "decoder_layer2 = autoencoder.layers[-2]\n",
        "decoder_layer3 = autoencoder.layers[-1]\n",
        "decoder = Model(encoded_input, decoder_layer3(decoder_layer2(decoder_layer1(encoded_input))))"
      ],
      "metadata": {
        "id": "irV57pSwWCve"
      },
      "execution_count": 11,
      "outputs": []
    },
    {
      "cell_type": "code",
      "source": [
        "encoded_imgs = encoder.predict(x_test)\n",
        "decoded_imgs = decoder.predict(encoded_imgs)"
      ],
      "metadata": {
        "colab": {
          "base_uri": "https://localhost:8080/"
        },
        "id": "RvYyF3W5WC0L",
        "outputId": "a291e05b-1f7a-40ad-8190-491e04a6fffa"
      },
      "execution_count": 12,
      "outputs": [
        {
          "output_type": "stream",
          "name": "stdout",
          "text": [
            "313/313 [==============================] - 1s 3ms/step\n",
            "313/313 [==============================] - 1s 2ms/step\n"
          ]
        }
      ]
    },
    {
      "cell_type": "code",
      "source": [
        "import matplotlib.pyplot as plt"
      ],
      "metadata": {
        "id": "NaAD1l1_YOkS"
      },
      "execution_count": 13,
      "outputs": []
    },
    {
      "cell_type": "code",
      "source": [
        "n = 10  # Number of digits to display\n",
        "plt.figure(figsize=(20, 4))\n",
        "for i in range(n):\n",
        "    # Display original images\n",
        "    ax = plt.subplot(4, n, i+ 1)\n",
        "    plt.imshow(x_test[i].reshape(28, 28))\n",
        "    plt.gray()\n",
        "    ax.get_xaxis().set_visible(False)\n",
        "    ax.get_yaxis().set_visible(False)"
      ],
      "metadata": {
        "colab": {
          "base_uri": "https://localhost:8080/",
          "height": 88
        },
        "id": "z8gMENusYOs-",
        "outputId": "1538930d-668c-4e94-b126-a9947b8ee35b"
      },
      "execution_count": 33,
      "outputs": [
        {
          "output_type": "display_data",
          "data": {
            "text/plain": [
              "<Figure size 2000x400 with 10 Axes>"
            ],
            "image/png": "[encoded data removed]"
          },
          "metadata": {}
        }
      ]
    },
    {
      "cell_type": "code",
      "source": [
        "ax = plt.subplot(2, n, i +1 + n)\n",
        "plt.imshow(decoded_imgs[i].reshape(28, 28)) # Fix the indentation\n",
        "plt.gray()\n",
        "ax.get_xaxis().set_visible(False)\n",
        "ax.get_yaxis().set_visible(False)\n",
        "plt.show()"
      ],
      "metadata": {
        "colab": {
          "base_uri": "https://localhost:8080/",
          "height": 79
        },
        "id": "VLSjmItJYb42",
        "outputId": "917bbd6e-1ef7-4e5a-d496-a048493572e2"
      },
      "execution_count": 45,
      "outputs": [
        {
          "output_type": "display_data",
          "data": {
            "text/plain": [
              "<Figure size 640x480 with 1 Axes>"
            ],
            "image/png": "[encoded data removed]"
          },
          "metadata": {}
        }
      ]
    }
  ]
}