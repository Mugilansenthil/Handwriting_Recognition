{
  "nbformat": 4,
  "nbformat_minor": 0,
  "metadata": {
    "colab": {
      "provenance": [],
      "authorship_tag": "ABX9TyNYJ6A2F203z+DFV2o1Iuqb",
      "include_colab_link": true
    },
    "kernelspec": {
      "name": "python3",
      "display_name": "Python 3"
    },
    "language_info": {
      "name": "python"
    }
  },
  "cells": [
    {
      "cell_type": "markdown",
      "metadata": {
        "id": "view-in-github",
        "colab_type": "text"
      },
      "source": [
        "<a href=\"https://colab.research.google.com/github/Mugilansenthil/Handwriting_Recognition/blob/main/Handwriting_Recognition.ipynb\" target=\"_parent\"><img src=\"https://colab.research.google.com/assets/colab-badge.svg\" alt=\"Open In Colab\"/></a>"
      ]
    },
    {
      "cell_type": "code",
      "execution_count": 1,
      "metadata": {
        "id": "nBjYmFv8prAQ"
      },
      "outputs": [],
      "source": [
        "import numpy as np\n",
        "import tensorflow as tf\n",
        "from tensorflow.keras.datasets import mnist\n",
        "from tensorflow.keras.models import Model\n",
        "from tensorflow.keras.layers import Input, Dense"
      ]
    },
    {
      "cell_type": "code",
      "source": [
        "(x_train, _), (x_test, _) = mnist.load_data()"
      ],
      "metadata": {
        "colab": {
          "base_uri": "https://localhost:8080/"
        },
        "id": "5kN6Grvoq1Ni",
        "outputId": "6ed9afd7-47a6-4750-fbc5-f20392ca213e"
      },
      "execution_count": 2,
      "outputs": [
        {
          "output_type": "stream",
          "name": "stdout",
          "text": [
            "Downloading data from https://storage.googleapis.com/tensorflow/tf-keras-datasets/mnist.npz\n",
            "11490434/11490434 [==============================] - 1s 0us/step\n"
          ]
        }
      ]
    },
    {
      "cell_type": "code",
      "source": [
        "x_train = x_train.astype('float32') / 255.\n",
        "x_test = x_test.astype('float32') / 255."
      ],
      "metadata": {
        "id": "RU-ih-5mq1RE"
      },
      "execution_count": 3,
      "outputs": []
    },
    {
      "cell_type": "code",
      "source": [
        "\n",
        "x_train = x_train.reshape((len(x_train), np.prod(x_train.shape[1:])))\n",
        "x_test = x_test.reshape((len(x_test), np.prod(x_test.shape[1:])))"
      ],
      "metadata": {
        "id": "LBlOAyptq1UN"
      },
      "execution_count": 4,
      "outputs": []
    },
    {
      "cell_type": "code",
      "source": [
        "input_img = Input(shape=(784,))\n",
        "encoded = Dense(128, activation='relu')(input_img)\n",
        "encoded = Dense(64, activation='relu')(encoded)\n",
        "encoded = Dense(32, activation='relu')(encoded)\n",
        "\n",
        "decoded = Dense(64, activation='relu')(encoded)\n",
        "decoded = Dense(128, activation='relu')(decoded)\n",
        "decoded = Dense(784, activation='sigmoid')(decoded)\n",
        ""
      ],
      "metadata": {
        "id": "gWZWpdYlq1XO"
      },
      "execution_count": 5,
      "outputs": []
    },
    {
      "cell_type": "code",
      "source": [
        "autoencoder = Model(input_img, decoded)\n",
        "autoencoder.compile(optimizer='adam', loss='binary_crossentropy')"
      ],
      "metadata": {
        "id": "ZJb8h8HWq1aT"
      },
      "execution_count": 6,
      "outputs": []
    },
    {
      "cell_type": "code",
      "source": [
        "autoencoder.fit(x_train, x_train,\n",
        "                epochs=100,\n",
        "                batch_size=256,\n",
        "                shuffle=True,\n",
        "                validation_data=(x_test, x_test))\n",
        ""
      ],
      "metadata": {
        "colab": {
          "base_uri": "https://localhost:8080/"
        },
        "id": "px98p6Ajq1dm",
        "outputId": "10a448c6-2a82-44d1-b6ef-b4a7bf004d58"
      },
      "execution_count": 7,
      "outputs": [
        {
          "output_type": "stream",
          "name": "stdout",
          "text": [
            "Epoch 1/100\n",
            "235/235 [==============================] - 8s 25ms/step - loss: 0.2404 - val_loss: 0.1614\n",
            "Epoch 2/100\n",
            "235/235 [==============================] - 5s 19ms/step - loss: 0.1457 - val_loss: 0.1314\n",
            "Epoch 3/100\n",
            "235/235 [==============================] - 5s 19ms/step - loss: 0.1273 - val_loss: 0.1209\n",
            "Epoch 4/100\n",
            "235/235 [==============================] - 4s 19ms/step - loss: 0.1190 - val_loss: 0.1145\n",
            "Epoch 5/100\n",
            "235/235 [==============================] - 4s 17ms/step - loss: 0.1137 - val_loss: 0.1098\n",
            "Epoch 6/100\n",
            "235/235 [==============================] - 4s 19ms/step - loss: 0.1097 - val_loss: 0.1064\n",
            "Epoch 7/100\n",
            "235/235 [==============================] - 5s 20ms/step - loss: 0.1065 - val_loss: 0.1049\n",
            "Epoch 8/100\n",
            "235/235 [==============================] - 4s 16ms/step - loss: 0.1042 - val_loss: 0.1023\n",
            "Epoch 9/100\n",
            "235/235 [==============================] - 4s 16ms/step - loss: 0.1024 - val_loss: 0.1005\n",
            "Epoch 10/100\n",
            "235/235 [==============================] - 5s 22ms/step - loss: 0.1009 - val_loss: 0.0990\n",
            "Epoch 11/100\n",
            "235/235 [==============================] - 4s 16ms/step - loss: 0.0996 - val_loss: 0.0977\n",
            "Epoch 12/100\n",
            "235/235 [==============================] - 4s 17ms/step - loss: 0.0981 - val_loss: 0.0965\n",
            "Epoch 13/100\n",
            "235/235 [==============================] - 5s 23ms/step - loss: 0.0969 - val_loss: 0.0951\n",
            "Epoch 14/100\n",
            "235/235 [==============================] - 4s 16ms/step - loss: 0.0956 - val_loss: 0.0940\n",
            "Epoch 15/100\n",
            "235/235 [==============================] - 4s 16ms/step - loss: 0.0946 - val_loss: 0.0938\n",
            "Epoch 16/100\n",
            "235/235 [==============================] - 5s 22ms/step - loss: 0.0938 - val_loss: 0.0928\n",
            "Epoch 17/100\n",
            "235/235 [==============================] - 4s 16ms/step - loss: 0.0931 - val_loss: 0.0920\n",
            "Epoch 18/100\n",
            "235/235 [==============================] - 4s 16ms/step - loss: 0.0924 - val_loss: 0.0911\n",
            "Epoch 19/100\n",
            "235/235 [==============================] - 5s 20ms/step - loss: 0.0918 - val_loss: 0.0911\n",
            "Epoch 20/100\n",
            "235/235 [==============================] - 4s 18ms/step - loss: 0.0913 - val_loss: 0.0903\n",
            "Epoch 21/100\n",
            "235/235 [==============================] - 4s 16ms/step - loss: 0.0907 - val_loss: 0.0898\n",
            "Epoch 22/100\n",
            "235/235 [==============================] - 4s 19ms/step - loss: 0.0902 - val_loss: 0.0891\n",
            "Epoch 23/100\n",
            "235/235 [==============================] - 5s 20ms/step - loss: 0.0898 - val_loss: 0.0888\n",
            "Epoch 24/100\n",
            "235/235 [==============================] - 4s 16ms/step - loss: 0.0892 - val_loss: 0.0882\n",
            "Epoch 25/100\n",
            "235/235 [==============================] - 4s 16ms/step - loss: 0.0888 - val_loss: 0.0882\n",
            "Epoch 26/100\n",
            "235/235 [==============================] - 5s 23ms/step - loss: 0.0884 - val_loss: 0.0876\n",
            "Epoch 27/100\n",
            "235/235 [==============================] - 4s 16ms/step - loss: 0.0880 - val_loss: 0.0874\n",
            "Epoch 28/100\n",
            "235/235 [==============================] - 4s 17ms/step - loss: 0.0877 - val_loss: 0.0870\n",
            "Epoch 29/100\n",
            "235/235 [==============================] - 5s 22ms/step - loss: 0.0874 - val_loss: 0.0866\n",
            "Epoch 30/100\n",
            "235/235 [==============================] - 4s 16ms/step - loss: 0.0871 - val_loss: 0.0868\n",
            "Epoch 31/100\n",
            "235/235 [==============================] - 4s 16ms/step - loss: 0.0868 - val_loss: 0.0863\n",
            "Epoch 32/100\n",
            "235/235 [==============================] - 5s 23ms/step - loss: 0.0865 - val_loss: 0.0858\n",
            "Epoch 33/100\n",
            "235/235 [==============================] - 4s 17ms/step - loss: 0.0862 - val_loss: 0.0855\n",
            "Epoch 34/100\n",
            "235/235 [==============================] - 4s 16ms/step - loss: 0.0861 - val_loss: 0.0854\n",
            "Epoch 35/100\n",
            "235/235 [==============================] - 5s 21ms/step - loss: 0.0858 - val_loss: 0.0851\n",
            "Epoch 36/100\n",
            "235/235 [==============================] - 4s 18ms/step - loss: 0.0856 - val_loss: 0.0849\n",
            "Epoch 37/100\n",
            "235/235 [==============================] - 4s 16ms/step - loss: 0.0854 - val_loss: 0.0848\n",
            "Epoch 38/100\n",
            "235/235 [==============================] - 5s 19ms/step - loss: 0.0852 - val_loss: 0.0845\n",
            "Epoch 39/100\n",
            "235/235 [==============================] - 5s 19ms/step - loss: 0.0850 - val_loss: 0.0845\n",
            "Epoch 40/100\n",
            "235/235 [==============================] - 4s 16ms/step - loss: 0.0849 - val_loss: 0.0844\n",
            "Epoch 41/100\n",
            "235/235 [==============================] - 4s 18ms/step - loss: 0.0847 - val_loss: 0.0846\n",
            "Epoch 42/100\n",
            "235/235 [==============================] - 5s 21ms/step - loss: 0.0845 - val_loss: 0.0843\n",
            "Epoch 43/100\n",
            "235/235 [==============================] - 4s 16ms/step - loss: 0.0844 - val_loss: 0.0839\n",
            "Epoch 44/100\n",
            "235/235 [==============================] - 4s 16ms/step - loss: 0.0843 - val_loss: 0.0841\n",
            "Epoch 45/100\n",
            "235/235 [==============================] - 7s 29ms/step - loss: 0.0842 - val_loss: 0.0838\n",
            "Epoch 46/100\n",
            "235/235 [==============================] - 4s 16ms/step - loss: 0.0840 - val_loss: 0.0836\n",
            "Epoch 47/100\n",
            "235/235 [==============================] - 4s 16ms/step - loss: 0.0839 - val_loss: 0.0837\n",
            "Epoch 48/100\n",
            "235/235 [==============================] - 5s 23ms/step - loss: 0.0839 - val_loss: 0.0834\n",
            "Epoch 49/100\n",
            "235/235 [==============================] - 4s 16ms/step - loss: 0.0837 - val_loss: 0.0835\n",
            "Epoch 50/100\n",
            "235/235 [==============================] - 4s 16ms/step - loss: 0.0836 - val_loss: 0.0832\n",
            "Epoch 51/100\n",
            "235/235 [==============================] - 5s 21ms/step - loss: 0.0835 - val_loss: 0.0831\n",
            "Epoch 52/100\n",
            "235/235 [==============================] - 4s 17ms/step - loss: 0.0835 - val_loss: 0.0833\n",
            "Epoch 53/100\n",
            "235/235 [==============================] - 4s 16ms/step - loss: 0.0833 - val_loss: 0.0829\n",
            "Epoch 54/100\n",
            "235/235 [==============================] - 5s 20ms/step - loss: 0.0833 - val_loss: 0.0830\n",
            "Epoch 55/100\n",
            "235/235 [==============================] - 4s 19ms/step - loss: 0.0832 - val_loss: 0.0829\n",
            "Epoch 56/100\n",
            "235/235 [==============================] - 4s 16ms/step - loss: 0.0831 - val_loss: 0.0828\n",
            "Epoch 57/100\n",
            "235/235 [==============================] - 4s 19ms/step - loss: 0.0830 - val_loss: 0.0829\n",
            "Epoch 58/100\n",
            "235/235 [==============================] - 5s 20ms/step - loss: 0.0830 - val_loss: 0.0826\n",
            "Epoch 59/100\n",
            "235/235 [==============================] - 4s 16ms/step - loss: 0.0829 - val_loss: 0.0826\n",
            "Epoch 60/100\n",
            "235/235 [==============================] - 4s 16ms/step - loss: 0.0828 - val_loss: 0.0826\n",
            "Epoch 61/100\n",
            "235/235 [==============================] - 5s 23ms/step - loss: 0.0828 - val_loss: 0.0832\n",
            "Epoch 62/100\n",
            "235/235 [==============================] - 4s 16ms/step - loss: 0.0827 - val_loss: 0.0825\n",
            "Epoch 63/100\n",
            "235/235 [==============================] - 4s 16ms/step - loss: 0.0826 - val_loss: 0.0826\n",
            "Epoch 64/100\n",
            "235/235 [==============================] - 6s 24ms/step - loss: 0.0826 - val_loss: 0.0826\n",
            "Epoch 65/100\n",
            "235/235 [==============================] - 4s 16ms/step - loss: 0.0825 - val_loss: 0.0822\n",
            "Epoch 66/100\n",
            "235/235 [==============================] - 4s 16ms/step - loss: 0.0825 - val_loss: 0.0821\n",
            "Epoch 67/100\n",
            "235/235 [==============================] - 5s 22ms/step - loss: 0.0824 - val_loss: 0.0826\n",
            "Epoch 68/100\n",
            "235/235 [==============================] - 4s 17ms/step - loss: 0.0824 - val_loss: 0.0823\n",
            "Epoch 69/100\n",
            "235/235 [==============================] - 4s 17ms/step - loss: 0.0823 - val_loss: 0.0824\n",
            "Epoch 70/100\n",
            "235/235 [==============================] - 5s 21ms/step - loss: 0.0822 - val_loss: 0.0823\n",
            "Epoch 71/100\n",
            "235/235 [==============================] - 4s 18ms/step - loss: 0.0822 - val_loss: 0.0822\n",
            "Epoch 72/100\n",
            "235/235 [==============================] - 4s 16ms/step - loss: 0.0822 - val_loss: 0.0822\n",
            "Epoch 73/100\n",
            "235/235 [==============================] - 4s 19ms/step - loss: 0.0821 - val_loss: 0.0821\n",
            "Epoch 74/100\n",
            "235/235 [==============================] - 5s 20ms/step - loss: 0.0821 - val_loss: 0.0818\n",
            "Epoch 75/100\n",
            "235/235 [==============================] - 4s 16ms/step - loss: 0.0821 - val_loss: 0.0820\n",
            "Epoch 76/100\n",
            "235/235 [==============================] - 4s 16ms/step - loss: 0.0820 - val_loss: 0.0820\n",
            "Epoch 77/100\n",
            "235/235 [==============================] - 5s 23ms/step - loss: 0.0820 - val_loss: 0.0819\n",
            "Epoch 78/100\n",
            "235/235 [==============================] - 4s 16ms/step - loss: 0.0819 - val_loss: 0.0819\n",
            "Epoch 79/100\n",
            "235/235 [==============================] - 4s 16ms/step - loss: 0.0819 - val_loss: 0.0818\n",
            "Epoch 80/100\n",
            "235/235 [==============================] - 5s 23ms/step - loss: 0.0818 - val_loss: 0.0818\n",
            "Epoch 81/100\n",
            "235/235 [==============================] - 4s 16ms/step - loss: 0.0818 - val_loss: 0.0817\n",
            "Epoch 82/100\n",
            "235/235 [==============================] - 4s 16ms/step - loss: 0.0818 - val_loss: 0.0817\n",
            "Epoch 83/100\n",
            "235/235 [==============================] - 5s 21ms/step - loss: 0.0817 - val_loss: 0.0815\n",
            "Epoch 84/100\n",
            "235/235 [==============================] - 4s 17ms/step - loss: 0.0817 - val_loss: 0.0816\n",
            "Epoch 85/100\n",
            "235/235 [==============================] - 4s 16ms/step - loss: 0.0817 - val_loss: 0.0817\n",
            "Epoch 86/100\n",
            "235/235 [==============================] - 4s 19ms/step - loss: 0.0816 - val_loss: 0.0816\n",
            "Epoch 87/100\n",
            "235/235 [==============================] - 5s 19ms/step - loss: 0.0816 - val_loss: 0.0814\n",
            "Epoch 88/100\n",
            "235/235 [==============================] - 4s 18ms/step - loss: 0.0815 - val_loss: 0.0816\n",
            "Epoch 89/100\n",
            "235/235 [==============================] - 6s 25ms/step - loss: 0.0815 - val_loss: 0.0813\n",
            "Epoch 90/100\n",
            "235/235 [==============================] - 4s 17ms/step - loss: 0.0815 - val_loss: 0.0814\n",
            "Epoch 91/100\n",
            "235/235 [==============================] - 4s 16ms/step - loss: 0.0815 - val_loss: 0.0813\n",
            "Epoch 92/100\n",
            "235/235 [==============================] - 5s 19ms/step - loss: 0.0814 - val_loss: 0.0813\n",
            "Epoch 93/100\n",
            "235/235 [==============================] - 5s 19ms/step - loss: 0.0814 - val_loss: 0.0815\n",
            "Epoch 94/100\n",
            "235/235 [==============================] - 4s 16ms/step - loss: 0.0813 - val_loss: 0.0813\n",
            "Epoch 95/100\n",
            "235/235 [==============================] - 4s 18ms/step - loss: 0.0813 - val_loss: 0.0812\n",
            "Epoch 96/100\n",
            "235/235 [==============================] - 5s 21ms/step - loss: 0.0812 - val_loss: 0.0813\n",
            "Epoch 97/100\n",
            "235/235 [==============================] - 4s 16ms/step - loss: 0.0812 - val_loss: 0.0811\n",
            "Epoch 98/100\n",
            "235/235 [==============================] - 4s 17ms/step - loss: 0.0812 - val_loss: 0.0813\n",
            "Epoch 99/100\n",
            "235/235 [==============================] - 5s 22ms/step - loss: 0.0811 - val_loss: 0.0811\n",
            "Epoch 100/100\n",
            "235/235 [==============================] - 4s 16ms/step - loss: 0.0811 - val_loss: 0.0811\n"
          ]
        },
        {
          "output_type": "execute_result",
          "data": {
            "text/plain": [
              "<keras.src.callbacks.History at 0x7a36c67105b0>"
            ]
          },
          "metadata": {},
          "execution_count": 7
        }
      ]
    },
    {
      "cell_type": "code",
      "source": [
        "autoencoder = Model(input_img, decoded)\n",
        "encoder = Model(input_img, encoded)"
      ],
      "metadata": {
        "id": "DvhXzVMFrPA6"
      },
      "execution_count": 13,
      "outputs": []
    },
    {
      "cell_type": "code",
      "source": [
        "autoencoder = Model(input_img, decoded)\n",
        "encoder = Model(input_img, encoded)\n",
        "decoder = Model(encoded, decoded)\n",
        "\n",
        "encoded_imgs = encoder.predict(x_test)\n",
        "decoded_imgs = decoder.predict(encoded_imgs)\n",
        ""
      ],
      "metadata": {
        "colab": {
          "base_uri": "https://localhost:8080/"
        },
        "id": "jHLfvjhbrPEd",
        "outputId": "81bba672-dfdb-47d8-cd02-5678c3fd5a2b"
      },
      "execution_count": 14,
      "outputs": [
        {
          "output_type": "stream",
          "name": "stdout",
          "text": [
            "313/313 [==============================] - 1s 2ms/step\n",
            "313/313 [==============================] - 1s 2ms/step\n"
          ]
        }
      ]
    },
    {
      "cell_type": "code",
      "source": [
        "import matplotlib.pyplot as plt"
      ],
      "metadata": {
        "id": "X16N3Y6orPI2"
      },
      "execution_count": 15,
      "outputs": []
    },
    {
      "cell_type": "code",
      "source": [
        "n = 10\n",
        "plt.figure(figsize=(20, 4))\n",
        "for i in range(n):\n",
        "    ax = plt.subplot(4, n, i+ 1)\n",
        "    plt.imshow(x_test[i].reshape(28, 28))\n",
        "    plt.gray()\n",
        "    ax.get_xaxis().set_visible(False)\n",
        "    ax.get_yaxis().set_visible(False)"
      ],
      "metadata": {
        "colab": {
          "base_uri": "https://localhost:8080/",
          "height": 88
        },
        "id": "uo5dfrOnuEvR",
        "outputId": "c0b21cd3-8f26-4eb2-fdd1-0a2206441b4d"
      },
      "execution_count": 16,
      "outputs": [
        {
          "output_type": "display_data",
          "data": {
            "text/plain": [
              "<Figure size 2000x400 with 10 Axes>"
            ],
            "image/png": "[encoded data removed]"
          },
          "metadata": {}
        }
      ]
    },
    {
      "cell_type": "code",
      "source": [
        "ax = plt.subplot(2, n, i +1 + n)\n",
        "plt.imshow(decoded_imgs[i].reshape(28, 28))\n",
        "plt.gray()\n",
        "ax.get_xaxis().set_visible(False)\n",
        "ax.get_yaxis().set_visible(False)\n",
        "plt.show()"
      ],
      "metadata": {
        "colab": {
          "base_uri": "https://localhost:8080/",
          "height": 79
        },
        "id": "vV7dIpOqt_TX",
        "outputId": "9b71df20-445b-4534-915f-236a1ec276ed"
      },
      "execution_count": 17,
      "outputs": [
        {
          "output_type": "display_data",
          "data": {
            "text/plain": [
              "<Figure size 640x480 with 1 Axes>"
            ],
            "image/png": "[encoded data removed]"
          },
          "metadata": {}
        }
      ]
    },
    {
      "cell_type": "code",
      "source": [],
      "metadata": {
        "id": "YqamwIDdrPLx"
      },
      "execution_count": null,
      "outputs": []
    }
  ]
}